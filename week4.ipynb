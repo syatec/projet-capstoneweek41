{
    "nbformat_minor": 1, 
    "cells": [
        {
            "source": "# 1.Introduction/Business Problem", 
            "cell_type": "markdown", 
            "metadata": {
                "collapsed": true
            }
        }, 
        {
            "source": "Paris, capital of France, is a big European city and a world center of art, fashion, gastronomy and culture. Its nineteenth-century cityscape is crossed by wide boulevards and the Seine. In addition to monuments such as the Eiffel Tower and the twelfth-century Notre-Dame Gothic cathedral, the city is famous for its cafes and luxury shops along rue du Faubourg-Saint-Honor\u00e9. I decided to use Paris in my project. the city of Paris has twenty boroughs.\nas you can see it is a big city, so it is really interesting to help all the companies that want to settle there in relation to the price of rents by districts or districts and by the density of neighborhoods.\nThis information will help businesses a lot, have populated neighborhoods and the lowest rents", 
            "cell_type": "markdown", 
            "metadata": {}
        }, 
        {
            "source": "# 2.Data Description", 
            "cell_type": "markdown", 
            "metadata": {}
        }
    ], 
    "metadata": {
        "kernelspec": {
            "display_name": "Python 3.5", 
            "name": "python3", 
            "language": "python"
        }, 
        "language_info": {
            "mimetype": "text/x-python", 
            "nbconvert_exporter": "python", 
            "version": "3.5.5", 
            "name": "python", 
            "file_extension": ".py", 
            "pygments_lexer": "ipython3", 
            "codemirror_mode": {
                "version": 3, 
                "name": "ipython"
            }
        }
    }, 
    "nbformat": 4
}